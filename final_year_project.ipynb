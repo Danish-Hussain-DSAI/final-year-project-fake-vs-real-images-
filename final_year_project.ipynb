{
  "cells": [
    {
      "cell_type": "markdown",
      "metadata": {
        "id": "view-in-github",
        "colab_type": "text"
      },
      "source": [
        "<a href=\"https://colab.research.google.com/github/Danish-Hussain-DSAI/final-year-project-fake-vs-real-images-/blob/main/final_year_project.ipynb\" target=\"_parent\"><img src=\"https://colab.research.google.com/assets/colab-badge.svg\" alt=\"Open In Colab\"/></a>"
      ]
    },
    {
      "cell_type": "code",
      "execution_count": 34,
      "metadata": {
        "id": "_d77EdE-54OM"
      },
      "outputs": [],
      "source": [
        "import os\n",
        "import pandas as pd\n",
        "import cv2\n",
        "import numpy as np\n",
        "import tensorflow as tf\n",
        "import cv2\n",
        "import matplotlib.pyplot as plt\n"
      ]
    },
    {
      "cell_type": "code",
      "execution_count": 35,
      "metadata": {
        "id": "ayNMjvP4E6os"
      },
      "outputs": [],
      "source": [
        "from tensorflow.keras.preprocessing import image\n",
        "\n",
        "# Specify the directories for real and fake images\n",
        "real_images_dir = '/content/drive/MyDrive/fyp/real'\n",
        "fake_images_dir = '/content/drive/MyDrive/fyp/fake'\n",
        "\n",
        "# Function to load and preprocess images from a directory\n",
        "def load_images(directory, label):\n",
        "    images = []\n",
        "    labels = []\n",
        "    for filename in os.listdir(directory):\n",
        "        if filename.endswith(('jpeg', 'jpg', 'png', 'gif')):\n",
        "            img_path = os.path.join(directory, filename)\n",
        "\n",
        "            #load images into memory\n",
        "            img = image.load_img(img_path, target_size=(128, 128))\n",
        "          #convert image into numpy array\n",
        "            img = image.img_to_array(img)\n",
        "            img = np.expand_dims(img, axis=0)\n",
        "            images.append(img)\n",
        "            labels.append(label)\n",
        "    return np.vstack(images), np.array(labels)\n",
        "\n",
        "\n"
      ]
    },
    {
      "cell_type": "code",
      "execution_count": 36,
      "metadata": {
        "id": "nKxGqO4FFka0"
      },
      "outputs": [],
      "source": [
        "# Load and preprocess 'real' images\n",
        "x_real, y_real = load_images(real_images_dir, label=1)\n",
        "\n",
        "# Load and preprocess 'fake' images\n",
        "x_fake, y_fake = load_images(fake_images_dir, label=0)\n",
        "\n"
      ]
    },
    {
      "cell_type": "code",
      "execution_count": 37,
      "metadata": {
        "id": "NQybWzGmFrmV"
      },
      "outputs": [],
      "source": [
        "# Concatenate the real and fake data and labels\n",
        "X = np.concatenate((x_real, x_fake), axis=0)\n",
        "y = np.concatenate((y_real, y_fake), axis=0)\n"
      ]
    },
    {
      "cell_type": "code",
      "source": [
        "import cv2\n",
        "import numpy as np\n",
        "\n",
        "#NumPy array containing images in the shape (num_samples, height, width, channels)\n",
        "# where channels can be 1 (grayscale) or 3 (RGB)\n",
        "\n",
        "# Convert images to RGB format\n",
        "def convert_to_rgb(images):\n",
        "    rgb_images = []\n",
        "    for img in images:\n",
        "        if img.shape[2] == 1:\n",
        "            # Convert grayscale to RGB\n",
        "            rgb_img = cv2.cvtColor(img, cv2.COLOR_GRAY2RGB)\n",
        "        else:\n",
        "            # Convert BGR (OpenCV's default) to RGB\n",
        "            rgb_img = cv2.cvtColor(img, cv2.COLOR_BGR2RGB)\n",
        "        rgb_images.append(rgb_img)\n",
        "    return np.array(rgb_images)\n",
        "\n",
        "# Assuming X is the NumPy array containing the images\n",
        "# Convert all images in X to RGB\n",
        "X_rgb = convert_to_rgb(X)\n",
        "\n",
        "#re assign\n",
        "X=X_rgb\n",
        "\n",
        "# Verify the color format (it should be RGB)\n",
        "print('Color format of the first image:', X[78].shape)\n"
      ],
      "metadata": {
        "colab": {
          "base_uri": "https://localhost:8080/"
        },
        "id": "iT8vkfPZqtVy",
        "outputId": "5bdd2d5d-536c-49c7-e0ef-1962c141b7bb"
      },
      "execution_count": 38,
      "outputs": [
        {
          "output_type": "stream",
          "name": "stdout",
          "text": [
            "Color format of the first image: (128, 128, 3)\n"
          ]
        }
      ]
    },
    {
      "cell_type": "code",
      "source": [
        "print(np.shape(X))\n",
        "print(np.shape(Y))"
      ],
      "metadata": {
        "colab": {
          "base_uri": "https://localhost:8080/"
        },
        "id": "wdKnkkqorLnF",
        "outputId": "c236e402-2ad0-47f1-d88e-9dd1a2b48fe3"
      },
      "execution_count": 49,
      "outputs": [
        {
          "output_type": "stream",
          "name": "stdout",
          "text": [
            "(5640, 128, 128, 3)\n",
            "(5640,)\n"
          ]
        }
      ]
    },
    {
      "cell_type": "code",
      "execution_count": 40,
      "metadata": {
        "colab": {
          "base_uri": "https://localhost:8080/"
        },
        "id": "PUAGh9ApFu3i",
        "outputId": "3ad26824-193f-4ee1-c6bd-dc554c348e72"
      },
      "outputs": [
        {
          "output_type": "stream",
          "name": "stdout",
          "text": [
            "Shape of X: (1410, 128, 128, 3)\n",
            "Shape of y: (1410,)\n"
          ]
        }
      ],
      "source": [
        "import sklearn\n",
        "from sklearn.utils import shuffle\n",
        "#Shuffle the dataset while maintaining the correspondence\n",
        "X, y = shuffle(X, y, random_state=42)\n",
        "\n",
        "# Print the shape of the final data and labels\n",
        "print(\"Shape of X:\", X.shape)\n",
        "print(\"Shape of y:\", y.shape)"
      ]
    },
    {
      "cell_type": "code",
      "execution_count": 41,
      "metadata": {
        "colab": {
          "base_uri": "https://localhost:8080/",
          "height": 564
        },
        "id": "GfI1lfuiPNpr",
        "outputId": "46133a45-bbb0-4894-acb7-55d5d74fdb3e"
      },
      "outputs": [
        {
          "output_type": "display_data",
          "data": {
            "text/plain": [
              "<Figure size 600x600 with 1 Axes>"
            ],
            "image/png": "[encoded data removed]"
          },
          "metadata": {}
        }
      ],
      "source": [
        "# show number of real images and fake images using bar chart\n",
        "\n",
        "# Count the number of real and fake images\n",
        "num_real_images = sum(label == 1 for label in y)\n",
        "num_fake_images = sum(label == 0 for label in y)\n",
        "\n",
        "# Data for the bar chart\n",
        "labels = ['Real', 'Fake']\n",
        "values = [num_real_images, num_fake_images]\n",
        "colors = ['green', 'red']\n",
        "\n",
        "# Plotting the bar chart\n",
        "plt.figure(figsize=(6, 6))\n",
        "plt.bar(labels, values, color=colors)\n",
        "\n",
        "# Adding labels and title\n",
        "plt.xlabel('Image Type')\n",
        "plt.ylabel('Number of Images')\n",
        "plt.title('Distribution of Real and Fake Images')\n",
        "\n",
        "# Display the bar chart\n",
        "plt.show()\n"
      ]
    },
    {
      "cell_type": "code",
      "execution_count": 42,
      "metadata": {
        "id": "NbXXYWL3bOGv"
      },
      "outputs": [],
      "source": [
        "X=np.array(X)\n",
        "Y=np.array(y)"
      ]
    },
    {
      "cell_type": "code",
      "execution_count": 43,
      "metadata": {
        "colab": {
          "base_uri": "https://localhost:8080/"
        },
        "id": "EvAEzSDzj060",
        "outputId": "2a254ae4-8ec5-4a2a-c719-0f53d095f095"
      },
      "outputs": [
        {
          "output_type": "stream",
          "name": "stdout",
          "text": [
            "shape of inputs X :(1410, 128, 128, 3)\n",
            "shape of labels Y :(1410,)\n"
          ]
        }
      ],
      "source": [
        "print(f'shape of inputs X :{np.shape(X)}')\n",
        "print(f'shape of labels Y :{np.shape(Y)}')"
      ]
    },
    {
      "cell_type": "code",
      "execution_count": 44,
      "metadata": {
        "colab": {
          "base_uri": "https://localhost:8080/"
        },
        "id": "hmnAT_3Hjood",
        "outputId": "91a7b771-560a-4e39-9f89-e19667187610"
      },
      "outputs": [
        {
          "output_type": "stream",
          "name": "stdout",
          "text": [
            "Shape of augmented X: (5640, 128, 128, 3)\n",
            "Shape of augmented y: (5640,)\n"
          ]
        }
      ],
      "source": [
        "from tensorflow.keras.preprocessing.image import ImageDataGenerator\n",
        "\n",
        "# Initialize the ImageDataGenerator for data augmentation\n",
        "augmentation_generator = ImageDataGenerator(\n",
        "    rotation_range=40,\n",
        "    width_shift_range=0.2,\n",
        "    height_shift_range=0.2,\n",
        "    shear_range=0.2,\n",
        "    zoom_range=0.2,\n",
        "    horizontal_flip=True,\n",
        "    fill_mode='nearest'\n",
        ")\n",
        "\n",
        "# Initialize lists to store augmented data and labels\n",
        "augmented_data = []\n",
        "augmented_labels = []\n",
        "\n",
        "# Number of augmentations per image\n",
        "num_augmentations = 3  # Adjust as needed\n",
        "\n",
        "# Perform data augmentation for each image in X\n",
        "for i in range(len(X)):\n",
        "    img = X[i]\n",
        "    label = y[i]\n",
        "\n",
        "    # Reshape the image to (1, height, width, channels) as required by ImageDataGenerator\n",
        "    img = np.reshape(img, (1,) + img.shape)\n",
        "\n",
        "    # Generate augmented images\n",
        "    augmented_images = augmentation_generator.flow(img, batch_size=num_augmentations)\n",
        "\n",
        "    # Append augmented images and labels\n",
        "    for _ in range(num_augmentations):\n",
        "        augmented_img = augmented_images.next()[0]\n",
        "        augmented_data.append(augmented_img)\n",
        "        augmented_labels.append(label)\n",
        "\n",
        "# Convert lists to arrays\n",
        "augmented_data = np.array(augmented_data)\n",
        "augmented_labels = np.array(augmented_labels)\n",
        "\n",
        "# Append augmented data to X and labels to y\n",
        "X_augmented = np.concatenate((X, augmented_data), axis=0)\n",
        "y_augmented = np.concatenate((y, augmented_labels), axis=0)\n",
        "\n",
        "# Shuffle the augmented dataset\n",
        "X_augmented, y_augmented = shuffle(X_augmented, y_augmented, random_state=42)\n",
        "\n",
        "# Print the shape of the augmented dataset\n",
        "print(\"Shape of augmented X:\", X_augmented.shape)\n",
        "print(\"Shape of augmented y:\", y_augmented.shape)\n"
      ]
    },
    {
      "cell_type": "code",
      "execution_count": 45,
      "metadata": {
        "colab": {
          "base_uri": "https://localhost:8080/"
        },
        "id": "ifekqO-ZluyB",
        "outputId": "dc303ad9-fe7e-4ee9-eae5-92f64467678a"
      },
      "outputs": [
        {
          "output_type": "stream",
          "name": "stdout",
          "text": [
            "5640\n",
            "5640\n"
          ]
        }
      ],
      "source": [
        "X=X_augmented\n",
        "Y=y_augmented\n",
        "print(len(X))\n",
        "print(len(Y))"
      ]
    },
    {
      "cell_type": "code",
      "source": [
        "\n",
        "def normalize_images(images):\n",
        "    # Convert image pixel values to float and normalize\n",
        "    normalized_images = images.astype('float32') / 255.0\n",
        "\n",
        "    return normalized_images\n",
        "\n",
        "# Assuming X contains your images and Y contains your labels\n",
        "# X is assumed to be a NumPy array of shape (num_samples, height, width, num_channels)\n",
        "# Y is assumed to be a NumPy array of shape (num_samples,)\n",
        "\n",
        "# Normalize images\n",
        "normalized_X = normalize_images(X)\n",
        "\n",
        "# Verify the shape and normalized values of the first image\n",
        "print('Original shape of the first image:', X[0].shape)\n",
        "print('Original values of the first image:')\n",
        "print(X[0])\n",
        "\n",
        "print('\\nNormalized shape of the first image:', normalized_X[0].shape)\n",
        "print('Normalized values of the first image:')\n",
        "print(normalized_X[0])\n"
      ],
      "metadata": {
        "colab": {
          "base_uri": "https://localhost:8080/"
        },
        "id": "3VIZmwhhh7QM",
        "outputId": "2a86523d-a608-4e73-a8dd-2c74701b387a"
      },
      "execution_count": 46,
      "outputs": [
        {
          "output_type": "stream",
          "name": "stdout",
          "text": [
            "Original shape of the first image: (128, 128, 3)\n",
            "Original values of the first image:\n",
            "[[[134.69159  154.69159  172.69159 ]\n",
            "  [134.31657  154.31657  172.31657 ]\n",
            "  [134.05844  154.05844  172.05844 ]\n",
            "  ...\n",
            "  [ 71.        89.       106.      ]\n",
            "  [ 74.526886  92.526886 109.526886]\n",
            "  [ 80.60935   98.0729   116.1458  ]]\n",
            "\n",
            " [[136.38263  156.38263  174.38263 ]\n",
            "  [135.6326   155.6326   173.6326  ]\n",
            "  [134.94128  154.94128  172.94128 ]\n",
            "  ...\n",
            "  [ 71.        89.       106.      ]\n",
            "  [ 77.258736  95.258736 112.258736]\n",
            "  [ 81.6338    98.75586  117.51173 ]]\n",
            "\n",
            " [[135.61794  155.61794  173.61794 ]\n",
            "  [136.36797  156.36797  174.36797 ]\n",
            "  [136.882    156.882    174.882   ]\n",
            "  ...\n",
            "  [ 71.22587   89.22587  106.22587 ]\n",
            "  [ 79.37147   97.24764  114.49529 ]\n",
            "  [ 82.        99.       118.      ]]\n",
            "\n",
            " ...\n",
            "\n",
            " [[ 71.42791  139.42792  186.42792 ]\n",
            "  [ 63.58147  131.40416  178.75879 ]\n",
            "  [ 58.637432 125.364525 174.36453 ]\n",
            "  ...\n",
            "  [ 81.22009  111.22009  140.2201  ]\n",
            "  [ 81.59511  111.59511  140.59511 ]\n",
            "  [ 81.97012  111.97012  140.97012 ]]\n",
            "\n",
            " [[ 69.037544 137.03755  184.03755 ]\n",
            "  [ 60.849625 128.33083  176.36842 ]\n",
            "  [ 60.686317 127.07193  176.07193 ]\n",
            "  ...\n",
            "  [ 81.       111.       140.      ]\n",
            "  [ 81.       111.       140.      ]\n",
            "  [ 81.       111.       140.      ]]\n",
            "\n",
            " [[ 66.64718  134.64719  181.64719 ]\n",
            "  [ 58.11778  125.2575   173.97806 ]\n",
            "  [ 62.735203 128.77934  177.77934 ]\n",
            "  ...\n",
            "  [ 77.882614 107.882614 136.88261 ]\n",
            "  [ 79.38267  109.38267  138.38268 ]\n",
            "  [ 80.88272  110.88272  139.88272 ]]]\n",
            "\n",
            "Normalized shape of the first image: (128, 128, 3)\n",
            "Normalized values of the first image:\n",
            "[[[0.5282023  0.60663366 0.6772219 ]\n",
            "  [0.52673167 0.60516304 0.67575127]\n",
            "  [0.5257194  0.6041508  0.674739  ]\n",
            "  ...\n",
            "  [0.2784314  0.34901962 0.41568628]\n",
            "  [0.2922623  0.36285055 0.4295172 ]\n",
            "  [0.3161151  0.3845996  0.45547372]]\n",
            "\n",
            " [[0.53483385 0.6132652  0.68385345]\n",
            "  [0.53189254 0.6103239  0.68091214]\n",
            "  [0.5291815  0.6076129  0.67820114]\n",
            "  ...\n",
            "  [0.2784314  0.34901962 0.41568628]\n",
            "  [0.30297545 0.37356368 0.44023034]\n",
            "  [0.32013252 0.38727787 0.4608303 ]]\n",
            "\n",
            " [[0.531835   0.6102664  0.6808546 ]\n",
            "  [0.53477633 0.6132077  0.6837959 ]\n",
            "  [0.53679216 0.6152235  0.68581176]\n",
            "  ...\n",
            "  [0.27931714 0.34990537 0.41657203]\n",
            "  [0.31126067 0.3813633  0.44900113]\n",
            "  [0.32156864 0.3882353  0.4627451 ]]\n",
            "\n",
            " ...\n",
            "\n",
            " [[0.28010947 0.5467762  0.7310899 ]\n",
            "  [0.2493391  0.5153104  0.7010149 ]\n",
            "  [0.22995071 0.49162558 0.68378246]\n",
            "  ...\n",
            "  [0.31851017 0.43615723 0.5498827 ]\n",
            "  [0.31998083 0.43762788 0.55135334]\n",
            "  [0.32145146 0.43909854 0.552824  ]]\n",
            "\n",
            " [[0.27073547 0.53740215 0.72171587]\n",
            "  [0.23862597 0.50325817 0.69164085]\n",
            "  [0.23798555 0.4983213  0.69047815]\n",
            "  ...\n",
            "  [0.31764707 0.43529412 0.54901963]\n",
            "  [0.31764707 0.43529412 0.54901963]\n",
            "  [0.31764707 0.43529412 0.54901963]]\n",
            "\n",
            " [[0.26136148 0.5280282  0.7123419 ]\n",
            "  [0.22791286 0.49120587 0.6822669 ]\n",
            "  [0.2460204  0.50501704 0.6971739 ]\n",
            "  ...\n",
            "  [0.305422   0.4230691  0.53679454]\n",
            "  [0.31130457 0.42895165 0.54267716]\n",
            "  [0.31718713 0.4348342  0.54855967]]]\n"
          ]
        }
      ]
    },
    {
      "cell_type": "code",
      "source": [
        "X=normalized_X"
      ],
      "metadata": {
        "id": "8avtyvx2mIrO"
      },
      "execution_count": 47,
      "outputs": []
    },
    {
      "cell_type": "code",
      "source": [
        "print(np.shape(X))\n",
        "print(np.shape(Y))"
      ],
      "metadata": {
        "colab": {
          "base_uri": "https://localhost:8080/"
        },
        "id": "CWqZpei6meKR",
        "outputId": "b59fd4b1-65c8-4fad-85fd-68bece03488e"
      },
      "execution_count": 51,
      "outputs": [
        {
          "output_type": "stream",
          "name": "stdout",
          "text": [
            "(5640, 128, 128, 3)\n",
            "(5640,)\n"
          ]
        }
      ]
    },
    {
      "cell_type": "code",
      "source": [
        "from sklearn.model_selection import train_test_split\n",
        "\n",
        "# Assuming X_rgb contains the images in RGB format and Y contains the labels\n",
        "\n",
        "# Split the data into training and the rest (validation + test)\n",
        "X_train, X_temp, y_train, y_temp = train_test_split(X, Y, test_size=0.3, random_state=42)\n",
        "\n",
        "# Further split the rest into validation and test\n",
        "X_val, X_test, y_val, y_test = train_test_split(X_temp, y_temp, test_size=0.5, random_state=42)\n",
        "\n",
        "\n",
        "\n",
        "\n"
      ],
      "metadata": {
        "id": "YCrQgWzlsIZZ"
      },
      "execution_count": 56,
      "outputs": []
    },
    {
      "cell_type": "code",
      "source": [
        "#X train and y train\n",
        "print(\"Train set shape:X_train :\", X_train.shape)\n",
        "print(\"Train set shape:  y_train :\",y_train.shape)"
      ],
      "metadata": {
        "colab": {
          "base_uri": "https://localhost:8080/"
        },
        "id": "mE5r93Avtg64",
        "outputId": "aae4fc86-e6d5-435b-c3b2-7faef553cf48"
      },
      "execution_count": 57,
      "outputs": [
        {
          "output_type": "stream",
          "name": "stdout",
          "text": [
            "Train set shape:X_train : (3948, 128, 128, 3)\n",
            "Train set shape:  y_train : (3948,)\n"
          ]
        }
      ]
    },
    {
      "cell_type": "code",
      "source": [
        "# x validation and y validation\n",
        "print(\"Validation set shape: X_val :  \", X_val.shape)\n",
        "print(\"Validation set shape y_val : \",y_val.shape)"
      ],
      "metadata": {
        "colab": {
          "base_uri": "https://localhost:8080/"
        },
        "id": "GBVOscImthHQ",
        "outputId": "2c64d01c-eb9b-45a7-ebe0-bf0a877d2e18"
      },
      "execution_count": 58,
      "outputs": [
        {
          "output_type": "stream",
          "name": "stdout",
          "text": [
            "Validation set shape: X_val :   (846, 128, 128, 3)\n",
            "Validation set shape y_val :  (846,)\n"
          ]
        }
      ]
    },
    {
      "cell_type": "code",
      "source": [
        "#x test and y test\n",
        "print(\"Test set shape:  X_test : \", X_test.shape)\n",
        "print(\"Test set shape:  y_test : \", y_test.shape)"
      ],
      "metadata": {
        "colab": {
          "base_uri": "https://localhost:8080/"
        },
        "id": "F1T6P8WithlX",
        "outputId": "c4df8f91-90c2-444e-f5a5-d23c02bcc234"
      },
      "execution_count": 59,
      "outputs": [
        {
          "output_type": "stream",
          "name": "stdout",
          "text": [
            "Test set shape:  X_test :  (846, 128, 128, 3)\n",
            "Test set shape:  y_test :  (846,)\n"
          ]
        }
      ]
    },
    {
      "cell_type": "code",
      "source": [
        "from tensorflow.keras.applications import VGG16\n",
        "from tensorflow.keras.models import Model\n",
        "from tensorflow.keras.layers import Dense, Flatten\n",
        "from tensorflow.keras.optimizers import Adam\n",
        "from sklearn.metrics import accuracy_score\n",
        "\n",
        "# Load pre-trained VGG16 model with 'imagenet' weights\n",
        "base_model = VGG16(weights='imagenet', include_top=False, input_shape=(128, 128, 3))\n",
        "\n",
        "# Customize the model by adding your top layers\n",
        "x = base_model.output\n",
        "x = Flatten()(x)\n",
        "x = Dense(256, activation='relu')(x)\n",
        "predictions = Dense(1, activation='sigmoid')(x)  # Binary classification\n",
        "\n",
        "# Create the customized model\n",
        "model = Model(inputs=base_model.input, outputs=predictions)\n",
        "\n",
        "# Freeze the layers of the pre-trained VGG model\n",
        "for layer in base_model.layers:\n",
        "    layer.trainable = False\n",
        "\n",
        "# Compile the model\n",
        "model.compile(optimizer=Adam(), loss='binary_crossentropy', metrics=['accuracy'])\n",
        "\n",
        "# Train the model (assuming you have X_train, y_train, X_val, y_val)\n",
        "history = model.fit(X_train, y_train,\n",
        "                    epochs=5,\n",
        "                    batch_size=32,\n",
        "                    validation_data=(X_val, y_val))\n",
        "\n",
        "# Evaluate the model\n",
        "y_pred = model.predict(X_test)\n",
        "y_pred_binary = (y_pred > 0.5).astype(int)  # Convert probabilities to binary predictions\n",
        "test_accuracy = accuracy_score(y_test, y_pred_binary)\n",
        "print('Test Accuracy:', test_accuracy)\n"
      ],
      "metadata": {
        "colab": {
          "base_uri": "https://localhost:8080/"
        },
        "id": "HOwcVxF0wbEE",
        "outputId": "a68dcf97-a05c-40de-84fd-41c7cf751af2"
      },
      "execution_count": null,
      "outputs": [
        {
          "output_type": "stream",
          "name": "stdout",
          "text": [
            "Downloading data from https://storage.googleapis.com/tensorflow/keras-applications/vgg16/vgg16_weights_tf_dim_ordering_tf_kernels_notop.h5\n",
            "58889256/58889256 [==============================] - 0s 0us/step\n",
            "Epoch 1/5\n",
            " 42/124 [=========>....................] - ETA: 7:29 - loss: 0.8315 - accuracy: 0.5603"
          ]
        }
      ]
    },
    {
      "cell_type": "code",
      "source": [],
      "metadata": {
        "id": "lyfNJzD-wbPP"
      },
      "execution_count": null,
      "outputs": []
    }
  ],
  "metadata": {
    "colab": {
      "provenance": [],
      "mount_file_id": "1b1yhI95daOgQVIMBJumnK1oyrCIVG2BZ",
      "authorship_tag": "ABX9TyPalQH7FWS2HPLagVbxursX",
      "include_colab_link": true
    },
    "kernelspec": {
      "display_name": "Python 3",
      "name": "python3"
    },
    "language_info": {
      "name": "python"
    }
  },
  "nbformat": 4,
  "nbformat_minor": 0
}